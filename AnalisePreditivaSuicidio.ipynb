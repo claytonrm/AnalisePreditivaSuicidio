{
 "cells": [
  {
   "cell_type": "markdown",
   "metadata": {},
   "source": [
    "# Análise Preditiva de Suicídios\n",
    "\n",
    "## Descrição do dataset\n",
    "Os dados foram coletados em forma de questionário através de redes sociais e emails. Alguns direcionados a grupos específicos de apoio (contra depressão). As questões abordadas foram baseadas nesta [pesquisa](https://www.kaggle.com/kingburrito666/the-demographic-rforeveralone-dataset). <br>\n",
    "\n",
    "<b>Descrição das variáveis:</b><br>\n",
    "* Q1: \"Qual a sua idade?\" <br>\n",
    "* Q2: \"Qual gênero você mais se identifica?\" <br>\n",
    "* Q3: \"Qual sua orientação  sexual?\" <br>\n",
    "* Q4: \"Qual o seu nível de renda anual?\" <br>\n",
    "* Q5: \"Qual sua etnicidade?\" <br>\n",
    "* Q6: \"Como você descreve sua massa corporal?\" <br>\n",
    "* Q7: \"Você é virgem?\" <br>\n",
    "* Q8: \"Você pagaria para ter uma relação sexual?\" <br>\n",
    "* Q9: \"Quantos amigos você tem na vida real?\" <br>\n",
    "* Q10: \"Você possui ansiedade/fobia social?\" <br>\n",
    "* Q11: \"Você possui algum tipo de diagnóstico de transtorno mental?\" <br>\n",
    "* Q12: \"Que tipo de ajuda você quer?\" <br>\n",
    "* Q13: \"Você já tentou se suicidar?\" <br>\n",
    "* Q14: \"Qual seu status empregatício? Atualmente você é...\" <br>\n",
    "* Q15: \"Qual seu cargo atual?\" <br>\n",
    "* Q16: \"Qual seu nível de educação?\" <br>\n",
    "* Q17: \"O que você fez para se sentir melhor consigo mesmo?\" <br>\n",
    "* Q18: \"Com quem você mora?\" <br>\n",
    "* Q19: \"Seus pais são divorciados?\" <br>\n"
   ]
  },
  {
   "cell_type": "code",
   "execution_count": null,
   "metadata": {},
   "outputs": [],
   "source": [
    "#!pip install --upgrade pip"
   ]
  },
  {
   "cell_type": "code",
   "execution_count": null,
   "metadata": {},
   "outputs": [],
   "source": [
    "#!pip install imblearn"
   ]
  },
  {
   "cell_type": "code",
   "execution_count": null,
   "metadata": {},
   "outputs": [],
   "source": [
    "import pandas as pd\n",
    "import numpy as np\n",
    "import matplotlib.pyplot as plt\n",
    "import seaborn as sns\n",
    "\n",
    "pd.set_option('display.max_colwidth', -1)\n",
    "pd.set_option('display.max_columns', 100)"
   ]
  },
  {
   "cell_type": "markdown",
   "metadata": {},
   "source": [
    "## Funções úteis"
   ]
  },
  {
   "cell_type": "code",
   "execution_count": null,
   "metadata": {},
   "outputs": [],
   "source": [
    "from plot_metric.functions import BinaryClassification"
   ]
  },
  {
   "cell_type": "code",
   "execution_count": null,
   "metadata": {},
   "outputs": [],
   "source": [
    "def plot_roc_curve(ytest, predicted_yproba, figure_name):\n",
    "    %matplotlib inline\n",
    "    bc = BinaryClassification(ytest, predicted_yproba, labels=[\"Classe 0\", \"Classe 1\"])\n",
    "    plt.figure(figsize=(5,5))\n",
    "    bc.plot_roc_curve()\n",
    "    plt.savefig(figure_name)\n",
    "    plt.show()\n",
    "    \n",
    "    \n",
    "def plot_resampling_comparing(confusion_matriz_os, confusion_matriz_us, figure_name):\n",
    "    fig = plt.figure(figsize=(10,4))\n",
    "\n",
    "    ax0 = fig.add_subplot(121)\n",
    "    ax0.set_title('Oversampling')\n",
    "    ax1 = fig.add_subplot(122)\n",
    "    ax1.set_title('Undersampling')\n",
    "\n",
    "    sns.heatmap(confusion_matriz_os, annot=True, cmap=sns.light_palette(\"black\"), ax=ax0)\n",
    "    sns.heatmap(confusion_matriz_us, annot=True, cmap=sns.light_palette(\"black\"), ax=ax1)\n",
    "    \n",
    "    plt.savefig(figure_name)"
   ]
  },
  {
   "cell_type": "code",
   "execution_count": null,
   "metadata": {},
   "outputs": [],
   "source": [
    "def check_classifiers_scores(classifiers, Xtrain, ytrain):\n",
    "    for key, classifier in classifiers.items():\n",
    "        classifier.fit(Xtrain, ytrain)\n",
    "        training_score = cross_val_score(classifier, Xtrain, ytrain, cv=5, n_jobs=-1)\n",
    "        precision_score = cross_val_score(classifier, Xtrain, ytrain, cv=5, n_jobs=-1, scoring='precision')\n",
    "        recall_score = cross_val_score(classifier, Xtrain, ytrain, cv=5, n_jobs=-1, scoring='recall')\n",
    "\n",
    "        print(classifier.__class__.__name__, \n",
    "              \"[Accuracy]:\", round(training_score.mean(), 2) * 100, \"%\", \n",
    "              \"[Precision]:\", round(precision_score.mean(), 2),\n",
    "              \"[Recall]:\", round(recall_score.mean(), 2)\n",
    "        )"
   ]
  },
  {
   "cell_type": "code",
   "execution_count": null,
   "metadata": {},
   "outputs": [],
   "source": [
    "def show_feature_importance(importances, current_df):\n",
    "    indices = np.argsort(importances)[::-1]\n",
    "    print(\"Feature ranking:\")\n",
    "\n",
    "    for f in range(current_df.shape[1]):\n",
    "        print(\"%d. %s (%f)\" % (f + 1, current_df.columns[indices[f]], importances[indices[f]]))\n",
    "\n",
    "\n",
    "def plot_feature_importance(importances, current_df, figure_name):\n",
    "    indices = np.argsort(importances)\n",
    "    f, ax = plt.subplots(figsize=(15, 8))\n",
    "    ax = plt.gca()\n",
    "    ax.set_facecolor('white')\n",
    "\n",
    "    plt.title(\"Feature ranking\", fontsize = 20)\n",
    "    plt.barh(range(current_df.shape[1]), importances[indices], color=\"black\", align=\"center\")\n",
    "\n",
    "    plt.yticks(range(current_df.shape[1]), current_df.columns[indices])\n",
    "    plt.ylim([-1, current_df.shape[1]])\n",
    "    plt.ylabel(\"Features\", fontsize = 20)\n",
    "    plt.xlabel(\"Importance\", fontsize = 20)\n",
    "    plt.savefig(figure_name)"
   ]
  },
  {
   "cell_type": "markdown",
   "metadata": {},
   "source": [
    "## Dataset"
   ]
  },
  {
   "cell_type": "code",
   "execution_count": null,
   "metadata": {},
   "outputs": [],
   "source": [
    "survey_data = pd.read_csv('survey_data.csv')"
   ]
  },
  {
   "cell_type": "code",
   "execution_count": null,
   "metadata": {},
   "outputs": [],
   "source": [
    "df = survey_data.iloc[:, 1:20]\n",
    "df.columns = ['Q{}'.format(x+1) for x in range(0, 19)]\n",
    "df.isnull().sum()"
   ]
  },
  {
   "cell_type": "markdown",
   "metadata": {},
   "source": [
    "## 1. Pré-processamento"
   ]
  },
  {
   "cell_type": "code",
   "execution_count": null,
   "metadata": {},
   "outputs": [],
   "source": [
    "def check_values_column(series):\n",
    "    return pd.DataFrame(series.str.strip().unique()).sort_values(by=0)"
   ]
  },
  {
   "cell_type": "code",
   "execution_count": null,
   "metadata": {},
   "outputs": [],
   "source": [
    "def replace_values(df, column_name, values_search, value_replace):\n",
    "    for value in values_search:\n",
    "        contains_value = df[column_name].str.lower().str.contains(value)\n",
    "        df[column_name] = np.where(contains_value == True, value_replace, df[column_name])"
   ]
  },
  {
   "cell_type": "code",
   "execution_count": null,
   "metadata": {},
   "outputs": [],
   "source": [
    "def create_age_range(df, feature_name, age_start, age_end):\n",
    "    current = age_start\n",
    "    step = 4\n",
    "    \n",
    "    while (current < age_end):\n",
    "        age_endd = current + step\n",
    "        \n",
    "        df.loc[df.Q1.between(current, age_endd), feature_name] = \\\n",
    "        '{} à {} anos'.format(current, age_endd)\n",
    "\n",
    "        current += (1 + step)\n"
   ]
  },
  {
   "cell_type": "markdown",
   "metadata": {},
   "source": [
    "### 1.1 Variável Q1 - \"Qual a sua idade?\"\n",
    "Limpeza e feature para a variável idade. <br>"
   ]
  },
  {
   "cell_type": "code",
   "execution_count": null,
   "metadata": {
    "scrolled": false
   },
   "outputs": [],
   "source": [
    "fig = plt.figure(figsize=(10,4))\n",
    "\n",
    "ax0 = fig.add_subplot(121)\n",
    "ax1 = fig.add_subplot(122)\n",
    "\n",
    "sns.distplot(df.Q1, kde=True, color='Black', ax=ax0);\n",
    "sns.boxplot(x=df[\"Q1\"], palette=sns.light_palette(\"black\"), orient='v', ax=ax1)\n",
    "\n",
    "plt.savefig('q1v2.png')\n",
    "\n",
    "fig.show()"
   ]
  },
  {
   "cell_type": "code",
   "execution_count": null,
   "metadata": {},
   "outputs": [],
   "source": [
    "df.Q1.describe()"
   ]
  },
  {
   "cell_type": "markdown",
   "metadata": {},
   "source": [
    "#### 1.1.1 Feature por intervalo de idade"
   ]
  },
  {
   "cell_type": "code",
   "execution_count": null,
   "metadata": {
    "scrolled": true
   },
   "outputs": [],
   "source": [
    "#create_age_range(df, 'Q1_FAIXA_IDADE', 10, 49)"
   ]
  },
  {
   "cell_type": "code",
   "execution_count": null,
   "metadata": {},
   "outputs": [],
   "source": [
    "#df.Q1_FAIXA_IDADE.value_counts()"
   ]
  },
  {
   "cell_type": "markdown",
   "metadata": {},
   "source": [
    "### 1.2 Variável Q2 - \"Qual gênero você mais se identifica?\""
   ]
  },
  {
   "cell_type": "code",
   "execution_count": null,
   "metadata": {},
   "outputs": [],
   "source": [
    "df.Q2.value_counts()"
   ]
  },
  {
   "cell_type": "code",
   "execution_count": null,
   "metadata": {},
   "outputs": [],
   "source": [
    "replace_values(df, 'Q2', ['agenero', 'não binário'], 'Não binário')"
   ]
  },
  {
   "cell_type": "code",
   "execution_count": null,
   "metadata": {},
   "outputs": [],
   "source": [
    "sns.countplot(x='Q2', data=df, palette='Blues')\n",
    "plt.savefig('q2.png')"
   ]
  },
  {
   "cell_type": "markdown",
   "metadata": {},
   "source": [
    "### 1.3 Variável Q3 - \"Orientação sexual\"\n",
    "Limpeza e recategorização"
   ]
  },
  {
   "cell_type": "code",
   "execution_count": null,
   "metadata": {
    "scrolled": false
   },
   "outputs": [],
   "source": [
    "df.Q3.value_counts(), df[df.Q3.isna()].shape"
   ]
  },
  {
   "cell_type": "code",
   "execution_count": null,
   "metadata": {},
   "outputs": [],
   "source": [
    "replace_values(df, 'Q3', ['pansexual', 'panssexual'], 'Pansexual')\n",
    "replace_values(df, 'Q3', ['bi-curioso', 'não sei'], 'Outros')"
   ]
  },
  {
   "cell_type": "code",
   "execution_count": null,
   "metadata": {},
   "outputs": [],
   "source": [
    "chart_q3 = sns.countplot(x='Q3', data=df, palette='Blues', order=df.Q3.value_counts().index)\n",
    "chart_q3.set_xticklabels(chart_q3.get_xticklabels(), rotation=20)\n",
    "\n",
    "plt.savefig('q3.png')"
   ]
  },
  {
   "cell_type": "markdown",
   "metadata": {},
   "source": [
    "### 1.4 Variável Q4 - \"Qual o seu nível de renda anual?\""
   ]
  },
  {
   "cell_type": "code",
   "execution_count": null,
   "metadata": {
    "scrolled": true
   },
   "outputs": [],
   "source": [
    "df[df['Q4'].isna()]['Q14']"
   ]
  },
  {
   "cell_type": "code",
   "execution_count": null,
   "metadata": {
    "scrolled": true
   },
   "outputs": [],
   "source": [
    "df['Q4'].value_counts()"
   ]
  },
  {
   "cell_type": "code",
   "execution_count": null,
   "metadata": {},
   "outputs": [],
   "source": [
    "chart_q4 = sns.countplot(x='Q4', data=df, palette='Blues', order=df.Q4.value_counts().index)\n",
    "chart_q4.set_xticklabels(chart_q4.get_xticklabels(), rotation=90)\n",
    "plt.savefig('q4.png')"
   ]
  },
  {
   "cell_type": "markdown",
   "metadata": {},
   "source": [
    "#### 1.4.1 Substituindo valores pela moda\n",
    "\n",
    "Baseado na análise, os registros são referente a estudantes e/ou desempregados"
   ]
  },
  {
   "cell_type": "code",
   "execution_count": null,
   "metadata": {},
   "outputs": [],
   "source": [
    "mode = df['Q4'].value_counts().index[0]"
   ]
  },
  {
   "cell_type": "code",
   "execution_count": null,
   "metadata": {},
   "outputs": [],
   "source": [
    "df['Q4'].fillna(mode, inplace=True)"
   ]
  },
  {
   "cell_type": "markdown",
   "metadata": {},
   "source": [
    "### 1.5 Variável Q5 - \"Qual sua etnicidade?\""
   ]
  },
  {
   "cell_type": "code",
   "execution_count": null,
   "metadata": {},
   "outputs": [],
   "source": [
    "chart_q5 = sns.countplot(x='Q5', data=df, palette='Blues', order=df.Q5.value_counts().index)\n",
    "chart_q5.set_xticklabels(chart_q5.get_xticklabels(), rotation=15)\n",
    "plt.savefig('q5.png')"
   ]
  },
  {
   "cell_type": "markdown",
   "metadata": {},
   "source": [
    "### 1.6 Variável Q6 - \"Como você descreve sua massa corporal?\""
   ]
  },
  {
   "cell_type": "code",
   "execution_count": null,
   "metadata": {},
   "outputs": [],
   "source": [
    "df.Q6.value_counts()"
   ]
  },
  {
   "cell_type": "code",
   "execution_count": null,
   "metadata": {},
   "outputs": [],
   "source": [
    "chart_q6 = sns.countplot(x='Q6', data=df, palette='Blues', order=df.Q6.value_counts().index)\n",
    "chart_q6.set_xticklabels(chart_q6.get_xticklabels(), rotation=15)\n",
    "plt.savefig('q6.png')"
   ]
  },
  {
   "cell_type": "markdown",
   "metadata": {},
   "source": [
    "### 1.7 Variável Q7 - \"Você é virgem?\""
   ]
  },
  {
   "cell_type": "code",
   "execution_count": null,
   "metadata": {
    "scrolled": false
   },
   "outputs": [],
   "source": [
    "sns.countplot(x='Q7', data=df, palette='Blues', order=df.Q7.value_counts().index)\n",
    "plt.savefig('q7.png')"
   ]
  },
  {
   "cell_type": "code",
   "execution_count": null,
   "metadata": {},
   "outputs": [],
   "source": [
    "df.Q7 = np.where(df.Q7 == 'Sim', 1, 0)"
   ]
  },
  {
   "cell_type": "markdown",
   "metadata": {},
   "source": [
    "### 1.8 Variável Q8 - \"Você pagaria para ter uma relação sexual?\""
   ]
  },
  {
   "cell_type": "code",
   "execution_count": null,
   "metadata": {},
   "outputs": [],
   "source": [
    "df.Q8.value_counts()"
   ]
  },
  {
   "cell_type": "code",
   "execution_count": null,
   "metadata": {},
   "outputs": [],
   "source": [
    "replace_values(df, 'Q8', ['cogitei'], 'Talvez')\n",
    "replace_values(df, 'Q8', ['ganhasse'], 'Sim')"
   ]
  },
  {
   "cell_type": "code",
   "execution_count": null,
   "metadata": {},
   "outputs": [],
   "source": [
    "sns.countplot(x='Q8', data=df, palette='Blues', order=df.Q8.value_counts().index)\n",
    "plt.savefig('q8.png')"
   ]
  },
  {
   "cell_type": "markdown",
   "metadata": {},
   "source": [
    "### 1.9 Variável Q9 - \"Quantos amigos você tem na vida real?\""
   ]
  },
  {
   "cell_type": "code",
   "execution_count": null,
   "metadata": {},
   "outputs": [],
   "source": [
    "df.Q9.describe()"
   ]
  },
  {
   "cell_type": "code",
   "execution_count": null,
   "metadata": {},
   "outputs": [],
   "source": [
    "ax = sns.distplot(df.Q9, bins=20, kde=False, color='Black');\n",
    "ax.set_yscale('log')"
   ]
  },
  {
   "cell_type": "code",
   "execution_count": null,
   "metadata": {},
   "outputs": [],
   "source": [
    "df[df['Q9'] <= 20].Q9.describe()"
   ]
  },
  {
   "cell_type": "markdown",
   "metadata": {},
   "source": [
    "#### 1.9.1 Atribuindo a média sem outliers\n",
    "Para os registros com valores maiores que 20 amigos, é substituído o número de amigos\n",
    "pela média considerando até 20 amigos."
   ]
  },
  {
   "cell_type": "code",
   "execution_count": null,
   "metadata": {},
   "outputs": [],
   "source": [
    "friends_mean_without_outliers = df[df['Q9'] <= 20].Q9.mean()"
   ]
  },
  {
   "cell_type": "code",
   "execution_count": null,
   "metadata": {},
   "outputs": [],
   "source": [
    "df['Q9_PROCESSADO'] = np.where(df['Q9'] > 20, friends_mean_without_outliers, df['Q9'])"
   ]
  },
  {
   "cell_type": "code",
   "execution_count": null,
   "metadata": {},
   "outputs": [],
   "source": [
    "df['Q9_PROCESSADO'].describe()"
   ]
  },
  {
   "cell_type": "code",
   "execution_count": null,
   "metadata": {},
   "outputs": [],
   "source": [
    "ax = sns.distplot(df.Q9_PROCESSADO, bins=20, kde=False, color='Black');\n",
    "ax.set_yscale('log')"
   ]
  },
  {
   "cell_type": "code",
   "execution_count": null,
   "metadata": {},
   "outputs": [],
   "source": [
    "fig = plt.figure(figsize=(10,4))\n",
    "\n",
    "ax0 = fig.add_subplot(121)\n",
    "ax1 = fig.add_subplot(122)\n",
    "ax0.set_yscale('log')\n",
    "ax1.set_yscale('log')\n",
    "\n",
    "sns.distplot(df.Q9, kde=False, bins=20, color='Black', ax=ax0);\n",
    "sns.distplot(df.Q9_PROCESSADO, bins=20, kde=False, color='Black', ax=ax1);\n",
    "\n",
    "plt.savefig('q9.png')\n",
    "\n",
    "fig.show()"
   ]
  },
  {
   "cell_type": "code",
   "execution_count": null,
   "metadata": {},
   "outputs": [],
   "source": [
    "df = df.drop(columns='Q9')"
   ]
  },
  {
   "cell_type": "markdown",
   "metadata": {},
   "source": [
    "### 1.10 Variável Q10 - \"Você possui ansiedade/fobia social?\""
   ]
  },
  {
   "cell_type": "code",
   "execution_count": null,
   "metadata": {},
   "outputs": [],
   "source": [
    "sns.countplot(x='Q10', data=df, palette='Blues', order=df.Q10.value_counts().index)\n",
    "plt.savefig('q10.png')"
   ]
  },
  {
   "cell_type": "code",
   "execution_count": null,
   "metadata": {},
   "outputs": [],
   "source": [
    "df.Q10 = np.where(df.Q10 == 'Sim', 1, 0)"
   ]
  },
  {
   "cell_type": "markdown",
   "metadata": {},
   "source": [
    "### 1.11 Variável Q11 - \"Você possui algum tipo de diagnóstico de transtorno mental?\"\n",
    "Esta variável envolve multipla seleção e digitação em campo livre.<br>\n",
    "Os passos para tratamento serão:<br>\n",
    "* Atribuir valor caso não tenha sido informado;\n",
    "* Sobrescrever valores redundantes (digitados);\n",
    "* Converter multipla seleção em colunas separadas;\n",
    "* Converter as classes separadas para binário;\n",
    "* Classificar valores digitados manualmente em categorias existentes e/ou criando novas (se necessário);"
   ]
  },
  {
   "cell_type": "code",
   "execution_count": null,
   "metadata": {},
   "outputs": [],
   "source": [
    "df[df['Q11'].isna()].shape"
   ]
  },
  {
   "cell_type": "code",
   "execution_count": null,
   "metadata": {},
   "outputs": [],
   "source": [
    "df['Q11'].fillna('Sem resposta', inplace=True)"
   ]
  },
  {
   "cell_type": "code",
   "execution_count": null,
   "metadata": {},
   "outputs": [],
   "source": [
    "check_values_column(df['Q11'])"
   ]
  },
  {
   "cell_type": "markdown",
   "metadata": {},
   "source": [
    "#### 1.11.1 Agrupando/sobrescrevendo valores redundantes"
   ]
  },
  {
   "cell_type": "code",
   "execution_count": null,
   "metadata": {},
   "outputs": [],
   "source": [
    "nenhum = 'Nenhum'\n",
    "\n",
    "df.loc[df.Q11.str.lower().str.contains('nenhum'), 'Q11'] = nenhum\n",
    "df.loc[df.Q11.str.lower().str.contains('não'), 'Q11'] = nenhum\n",
    "df.loc[df.Q11.str.lower().str.contains('sem diagnóstico médico'), 'Q11'] = nenhum\n",
    "\n",
    "outros = 'Outros'\n",
    "df.loc[df.Q11.str.lower().str.contains('ansiedade de leve'), 'Q11'] = outros\n",
    "df.loc[df.Q11.str.lower().str.contains('apenas períodos de ansiedade'), 'Q11'] = outros\n",
    "df.loc[df.Q11.str.lower().str.contains('problemas psicológicos após lesão corporal'), 'Q11'] = outros\n",
    "df.loc[df.Q11.str.lower().str.contains('tdah'), 'Q11'] = outros\n",
    "\n",
    "df.Q11 = df.Q11.str.strip().str.replace('toc', 'TOC', regex=True)\n",
    "df.Q11 = df.Q11.str.strip().str.replace('TOC', 'Transtornos de Ansiedade (Fobia Específica, Transtorno de Ansiedade Generalizada, Transtorno de Pânico, etc...)', regex=True)"
   ]
  },
  {
   "cell_type": "code",
   "execution_count": null,
   "metadata": {
    "scrolled": true
   },
   "outputs": [],
   "source": [
    "check_values_column(df['Q11'])"
   ]
  },
  {
   "cell_type": "markdown",
   "metadata": {},
   "source": [
    "#### 1.11.2 Transformando variáveis categóricas em binário\n",
    "Criando colunas binárias separadas para cada tipo de transtorno."
   ]
  },
  {
   "cell_type": "code",
   "execution_count": null,
   "metadata": {},
   "outputs": [],
   "source": [
    "df_Q11 = pd.get_dummies(df['Q11'].str.strip().str.split(';', expand=True))\n",
    "\n",
    "df['Q11_T1'] = df_Q11[['0_Transtornos Alimentares  (Anorexia, Bulimia, Transtorno de Ruminação, etc...)']].max(axis=1)\n",
    "\n",
    "df['Q11_T2'] = df_Q11[['0_Transtornos de Ansiedade (Fobia Específica, Transtorno de Ansiedade Generalizada, Transtorno de Pânico, etc...)',\n",
    "                       '1_Transtornos de Ansiedade (Fobia Específica, Transtorno de Ansiedade Generalizada, Transtorno de Pânico, etc...)']].max(axis=1)\n",
    "\n",
    "df['Q11_T3'] = df_Q11[['0_Transtorno Bipolar e Transtornos Relacionados (Transtorno Bipolar Tipo I, Transtorno Bipolar Tipo II, Transtorno Ciclotímico, etc...)',\n",
    "                       '1_Transtorno Bipolar e Transtornos Relacionados (Transtorno Bipolar Tipo I, Transtorno Bipolar Tipo II, Transtorno Ciclotímico, etc...)',\n",
    "                       '2_Transtorno Bipolar e Transtornos Relacionados (Transtorno Bipolar Tipo I, Transtorno Bipolar Tipo II, Transtorno Ciclotímico, etc...)']].max(axis=1)\n",
    "\n",
    "df['Q11_T4'] = df_Q11[['0_Transtornos Depressivos (Transtorno Disruptivo da Desregulação do Humor, Transtorno Depressivo Persistente (Distimia), etc...)',\n",
    "                       '1_Transtornos Depressivos (Transtorno Disruptivo da Desregulação do Humor, Transtorno Depressivo Persistente (Distimia), etc...)',\n",
    "                       '2_Transtornos Depressivos (Transtorno Disruptivo da Desregulação do Humor, Transtorno Depressivo Persistente (Distimia), etc...)',\n",
    "                       '3_Transtornos Depressivos (Transtorno Disruptivo da Desregulação do Humor, Transtorno Depressivo Persistente (Distimia), etc...)']].max(axis=1)\n",
    "\n",
    "df['Q11_T5'] = df_Q11[['0_Transtornos da Personalidade (Antissocial, Borderline, Esquizoide, Narcisista, Paranoide, etc...)',\n",
    "                       '1_Transtornos da Personalidade (Antissocial, Borderline, Esquizoide, Narcisista, Paranoide, etc...)',\n",
    "                       '2_Transtornos da Personalidade (Antissocial, Borderline, Esquizoide, Narcisista, Paranoide, etc...)',\n",
    "                       '3_Transtornos da Personalidade (Antissocial, Borderline, Esquizoide, Narcisista, Paranoide, etc...)',\n",
    "                       '4_Transtornos da Personalidade (Antissocial, Borderline, Esquizoide, Narcisista, Paranoide, etc...)']].max(axis=1)\n",
    "\n",
    "df['Q11_T6'] = df_Q11[['0_Transtornos Relacionados a Trauma e a Estressores (Transtorno de Apego Reativo, Transtorno de Interação Social Desinibida, Transtorno de Estresse Pós-traumático, Transtorno de Estresse Agudo, etc..)',\n",
    "                       '1_Transtornos Relacionados a Trauma e a Estressores (Transtorno de Apego Reativo, Transtorno de Interação Social Desinibida, Transtorno de Estresse Pós-traumático, Transtorno de Estresse Agudo, etc..)',\n",
    "                       '2_Transtornos Relacionados a Trauma e a Estressores (Transtorno de Apego Reativo, Transtorno de Interação Social Desinibida, Transtorno de Estresse Pós-traumático, Transtorno de Estresse Agudo, etc..)',\n",
    "                       '3_Transtornos Relacionados a Trauma e a Estressores (Transtorno de Apego Reativo, Transtorno de Interação Social Desinibida, Transtorno de Estresse Pós-traumático, Transtorno de Estresse Agudo, etc..)',\n",
    "                       '4_Transtornos Relacionados a Trauma e a Estressores (Transtorno de Apego Reativo, Transtorno de Interação Social Desinibida, Transtorno de Estresse Pós-traumático, Transtorno de Estresse Agudo, etc..)',\n",
    "                       '5_Transtornos Relacionados a Trauma e a Estressores (Transtorno de Apego Reativo, Transtorno de Interação Social Desinibida, Transtorno de Estresse Pós-traumático, Transtorno de Estresse Agudo, etc..)']].max(axis=1)\n"
   ]
  },
  {
   "cell_type": "code",
   "execution_count": null,
   "metadata": {},
   "outputs": [],
   "source": [
    "df['Q11_OUTROS'] = df_Q11[['0_Outros']].max(axis=1)\n",
    "df['Q11_SEM_RESPOSTA'] = df_Q11[['0_Sem resposta']].max(axis=1)"
   ]
  },
  {
   "cell_type": "code",
   "execution_count": null,
   "metadata": {},
   "outputs": [],
   "source": [
    "df = df.drop(columns='Q11')"
   ]
  },
  {
   "cell_type": "code",
   "execution_count": null,
   "metadata": {
    "scrolled": false
   },
   "outputs": [],
   "source": [
    "df.columns"
   ]
  },
  {
   "cell_type": "code",
   "execution_count": null,
   "metadata": {},
   "outputs": [],
   "source": [
    "df[df.Q11_OUTROS == 1]"
   ]
  },
  {
   "cell_type": "markdown",
   "metadata": {},
   "source": [
    "### 1.12 Variável Q12 - \"Que tipo de ajuda você quer?\""
   ]
  },
  {
   "cell_type": "code",
   "execution_count": null,
   "metadata": {
    "scrolled": true
   },
   "outputs": [],
   "source": [
    "df.Q12.value_counts()"
   ]
  },
  {
   "cell_type": "code",
   "execution_count": null,
   "metadata": {},
   "outputs": [],
   "source": [
    "df_Q12 = pd.get_dummies(df['Q12'].str.strip().str.split(';', expand=True))\n",
    "df_Q12"
   ]
  },
  {
   "cell_type": "code",
   "execution_count": null,
   "metadata": {},
   "outputs": [],
   "source": [
    "df['Q12_N1'] = df_Q12[['0_Amigos', '3_Amigos compreensivos e, acima, de tudo, uma sociedade mais justa e compreensiva']].max(axis=1)\n",
    "df['Q12_N2'] = df_Q12[['0_Coaching de encontro', '1_Coaching de encontro']].max(axis=1)\n",
    "df['Q12_N3'] = df_Q12[['0_Conselheiro', '1_Conselheiro', '2_Conselheiro']].max(axis=1)\n",
    "df['Q12_N4'] = df_Q12[['0_Encontro arranjado', '1_Encontro arranjado', '2_Encontro arranjado']].max(axis=1)\n",
    "df['Q12_N5'] = df_Q12[['0_Não quero ajuda', '1_Não quero ajuda']].max(axis=1)\n",
    "df['Q12_N6'] = df_Q12[['0_Não sei', '1_Não sei', '2_Não sei', '3_Não sei']].max(axis=1)\n",
    "df['Q12_N7'] = df_Q12[['0_Terapia', '1_Terapia', '2_Terapia', '3_Terapia', '4_Terapia', \n",
    "                       '1_Já faço terapia e acompanhamento psiquiátrico', \n",
    "                       '1_eu já faço terapia. Obg', '3_Já faço medicamentos e já faço terapia']].max(axis=1)"
   ]
  },
  {
   "cell_type": "code",
   "execution_count": null,
   "metadata": {},
   "outputs": [],
   "source": [
    "df['Q12_MEDICACAO'] = df_Q12[['2_Medicação', '3_Já faço medicamentos e já faço terapia']].max(axis=1)\n",
    "df['Q12_PSIQUIATRA'] = df_Q12[['1_Já faço terapia e acompanhamento psiquiátrico', \n",
    "                               '2_Psiquiatra, neurologista', '2_Psiquiatria']].max(axis=1)\n",
    "df['Q12_OUTROS'] = df_Q12['4_Mais curiosidade sobre o que são do que necessitar ajuda']"
   ]
  },
  {
   "cell_type": "code",
   "execution_count": null,
   "metadata": {},
   "outputs": [],
   "source": [
    "df = df.drop(columns='Q12')"
   ]
  },
  {
   "cell_type": "code",
   "execution_count": null,
   "metadata": {},
   "outputs": [],
   "source": [
    "df.head()"
   ]
  },
  {
   "cell_type": "markdown",
   "metadata": {},
   "source": [
    "### 1.13 Variável Q13 - \"Você já tentou se suicidar?\"\n",
    "Label/target da pesquisa"
   ]
  },
  {
   "cell_type": "code",
   "execution_count": null,
   "metadata": {},
   "outputs": [],
   "source": [
    "chart_q13 = sns.countplot(x='Q13', data=df, palette='Blues', order=df.Q13.value_counts().index)\n",
    "plt.savefig('q13.png')"
   ]
  },
  {
   "cell_type": "code",
   "execution_count": null,
   "metadata": {},
   "outputs": [],
   "source": [
    "df.Q13.value_counts() / df.Q13.count()"
   ]
  },
  {
   "cell_type": "code",
   "execution_count": null,
   "metadata": {},
   "outputs": [],
   "source": [
    "df.Q13 = np.where(df.Q13 == 'Sim', 1, 0)"
   ]
  },
  {
   "cell_type": "markdown",
   "metadata": {},
   "source": [
    "### 1.14 Variável Q14 - \"Qual seu status empregatício? Atualmente você é...?\""
   ]
  },
  {
   "cell_type": "code",
   "execution_count": null,
   "metadata": {},
   "outputs": [],
   "source": [
    "chart_q14 = sns.countplot(x='Q14', data=df, palette='Blues', order=df.Q14.value_counts().index)\n",
    "chart_q14.set_xticklabels(chart_q14.get_xticklabels(), rotation=90)\n",
    "plt.savefig('q14.png')"
   ]
  },
  {
   "cell_type": "markdown",
   "metadata": {},
   "source": [
    "### 1.15 Variável Q15 - \"Qual seu cargo atual?\""
   ]
  },
  {
   "cell_type": "code",
   "execution_count": null,
   "metadata": {},
   "outputs": [],
   "source": [
    "df['Q15'].str.strip().value_counts()"
   ]
  },
  {
   "cell_type": "markdown",
   "metadata": {},
   "source": [
    "#### 1.15.1 Agrupando valores"
   ]
  },
  {
   "cell_type": "code",
   "execution_count": null,
   "metadata": {},
   "outputs": [],
   "source": [
    "desenvolvimento = ['desenvolvedor', 'dev', 'analista', 'software', 'inteligência artificial']\n",
    "ciencia_de_dados = ['dados', 'estatístico']\n",
    "estudante = ['estudante', 'caloura', 'bolsista', 'escola', 'terceiro ano']\n",
    "professor = ['professor', 'ministro aula casualmente']\n",
    "estagiario = ['estagiári', 'estágio']\n",
    "vendas = ['vendedor', 'vendas', 'atendente', 'call center', 'marketing', 'operador de caixa']\n",
    "recepcionista = ['recepcionista', 'recepçao']\n",
    "autonomo = ['dono', 'autônoma', 'empreendedor', 'empresária']\n",
    "lideranca = ['gerente', 'diretor', 'líder']\n",
    "\n",
    "replace_values(df, 'Q15', desenvolvimento, 'Desenvolvimento de Software')\n",
    "replace_values(df, 'Q15', estudante, 'Estudante')\n",
    "replace_values(df, 'Q15', estagiario, 'Estágio')\n",
    "replace_values(df, 'Q15', professor, 'Educação')\n",
    "replace_values(df, 'Q15', vendas, 'Vendas / Telemarketing')\n",
    "replace_values(df, 'Q15', recepcionista, 'Recepcionista')\n",
    "replace_values(df, 'Q15', autonomo, 'Empresário(a) / Empreendedor(a) / Autônomo(a)')\n",
    "replace_values(df, 'Q15', ciencia_de_dados, 'Ciência de Dados')\n",
    "replace_values(df, 'Q15', lideranca, 'Diretoria / Gerência / Liderança')\n",
    "replace_values(df, 'Q15', ['redator'], 'Redator(a)')\n",
    "replace_values(df, 'Q15', ['psic'], 'Psicologia')\n",
    "replace_values(df, 'Q15', ['pesquisador'], 'Pesquisador(a)')\n",
    "replace_values(df, 'Q15', ['coordenad'], 'Coordenador(a)')\n",
    "replace_values(df, 'Q15', ['adm'], 'Administrativo')\n",
    "replace_values(df, 'Q15', ['arquitet'], 'Arquiteto(a)')\n",
    "\n",
    "df['Q15'].fillna('Sem resposta', inplace=True)"
   ]
  },
  {
   "cell_type": "code",
   "execution_count": null,
   "metadata": {},
   "outputs": [],
   "source": [
    "df.describe()"
   ]
  },
  {
   "cell_type": "code",
   "execution_count": null,
   "metadata": {},
   "outputs": [],
   "source": [
    "df[df['Q15'] == 'Sem resposta'].shape"
   ]
  },
  {
   "cell_type": "code",
   "execution_count": null,
   "metadata": {},
   "outputs": [],
   "source": [
    "max(df.isnull().sum())"
   ]
  },
  {
   "cell_type": "code",
   "execution_count": null,
   "metadata": {},
   "outputs": [],
   "source": [
    "df.head()"
   ]
  },
  {
   "cell_type": "markdown",
   "metadata": {},
   "source": [
    "### 1.16 Variável Q16 - \"Qual seu nível de educação?\""
   ]
  },
  {
   "cell_type": "code",
   "execution_count": null,
   "metadata": {
    "scrolled": true
   },
   "outputs": [],
   "source": [
    "df.Q16.value_counts()"
   ]
  },
  {
   "cell_type": "code",
   "execution_count": null,
   "metadata": {},
   "outputs": [],
   "source": [
    "replace_values(df, 'Q16', ['estou cursando o ensino medio', 'cursando o ensino médio.'], 'Ensino médio incompleto')\n",
    "replace_values(df, 'Q16', ['superior quase completo'], 'Superior (graduação) incompleto')"
   ]
  },
  {
   "cell_type": "markdown",
   "metadata": {},
   "source": [
    "### 1.17 Variável Q17 - \"O que você fez para se sentir melhor consigo mesmo?"
   ]
  },
  {
   "cell_type": "code",
   "execution_count": null,
   "metadata": {
    "scrolled": false
   },
   "outputs": [],
   "source": [
    "df.Q17.value_counts()"
   ]
  },
  {
   "cell_type": "code",
   "execution_count": null,
   "metadata": {},
   "outputs": [],
   "source": [
    "df_Q17 = pd.get_dummies(df['Q17'].str.strip().str.split(';', expand=True))\n",
    "df_Q17.columns"
   ]
  },
  {
   "cell_type": "code",
   "execution_count": null,
   "metadata": {},
   "outputs": [],
   "source": [
    "df['Q17_A1'] = df_Q17['0_Dieta']\n",
    "df['Q17_A2'] = df_Q17[['0_Indo à academia', '1_Indo à academia']].max(axis=1)\n",
    "df['Q17_A3'] = df_Q17[['0_Nada', '1_Nada', '2_Nada']].max(axis=1)\n",
    "df['Q17_A4'] = df_Q17[['0_Outros exercícios físicos', '1_Outros exercícios físicos', \n",
    "                       '2_Outros exercícios físicos', '3_Outros exercícios físicos',\n",
    "                       '1_Corrida, jogos eletrônicos, leitura, culinária', \n",
    "                       '1_Exercício físico coletivo. Futebol, vôlei,etc']].max(axis=1)\n",
    "\n",
    "df['Q17_A5'] = df_Q17[['0_Participando de encontros/clubes sociais', \n",
    "                       '1_Participando de encontros/clubes sociais',\n",
    "                       '2_Participando de encontros/clubes sociais',\n",
    "                       '3_Participando de encontros/clubes sociais',\n",
    "                       '4_Participando de encontros/clubes sociais']].max(axis=1)\n",
    "\n",
    "df['Q17_A6'] = df_Q17[['0_Procedimento cosmético', \n",
    "                       '1_Procedimento cosmético',\n",
    "                       '2_Procedimento cosmético',\n",
    "                       '3_Procedimento cosmético']].max(axis=1)\n",
    "\n",
    "df['Q17_A7'] = df_Q17[['0_Terapia', '1_Terapia', '2_Terapia', '3_Terapia', '4_Terapia', '5_Terapia',\n",
    "                       '2_Conversar com amigos, jogar, terapia ocupacional, pintar, artesanato, escrever, comprar roupas que me fazem confortável']].max(axis=1)\n",
    "\n",
    "df['Q17_A8'] = df_Q17[['0_Voluntariado', '1_Voluntariado', '2_Voluntariado', '3_Voluntariado', \n",
    "                       '4_Voluntariado', '5_Voluntariado', '6_Voluntariado']].max(axis=1)"
   ]
  },
  {
   "cell_type": "code",
   "execution_count": null,
   "metadata": {},
   "outputs": [],
   "source": [
    "df['Q17_MUSICA_TEATRO_ARTE'] = df_Q17[['0_Canto e ouço músicas', '1_Tocar instrumentos/recorrer aos amigos',\n",
    "                                       '0_Fumo maconha, toco, fumo maconha, transo', \n",
    "                                       '0_Ouvir musicas animadas, assistir series que eu amo',\n",
    "                                       '0_Pintar e Dormir', '1_Grupo de teatro', '1_Teatro',\n",
    "                                       '1_fazendo coisas sozinha, ouvindo música, desenhando...',\n",
    "                                       '2_Conversar com amigos, jogar, terapia ocupacional, pintar, artesanato, escrever, comprar roupas que me fazem confortável', \n",
    "                                       '3_Dança, Piano', '3_Escrita']].max(axis=1)\n",
    "\n",
    "df['Q17_AMIGOS'] = df_Q17[['0_Falo com meus amigos, me distraio com qualquer coisa', \n",
    "                           '1_Tocar instrumentos/recorrer aos amigos', '0_Saindo com amigos',\n",
    "                           '2_Conversar com amigos, jogar, terapia ocupacional, pintar, artesanato, escrever, comprar roupas que me fazem confortável'\n",
    "                          ]].max(axis=1)\n",
    "\n",
    "df['Q17_DROGAS'] = df_Q17[['0_Fumo maconha, toco, fumo maconha, transo', '0_maconha', \n",
    "                           '3_Tracei metas e acatei práticas que me agradam, independente do consenso social sobre estas (fumar)']].max(axis=1)\n",
    "\n",
    "df['Q17_JOGOS'] = df_Q17[['0_Jogos', '1_Corrida, jogos eletrônicos, leitura, culinária', '1_Jogos', \n",
    "                          '2_Conversar com amigos, jogar, terapia ocupacional, pintar, artesanato, escrever, comprar roupas que me fazem confortável']].max(axis=1)\n",
    "\n",
    "df['Q17_LEITURA'] = df_Q17[['0_Leitura e passes no centro espírita', \n",
    "                            '1_Corrida, jogos eletrônicos, leitura, culinária', \n",
    "                            '2_Ler, obter conhecimento']].max(axis=1)\n",
    "\n",
    "df['Q17_OUTROS'] = df_Q17[['0_Dormir', '0_Meu filho e ficando de boas',\n",
    "                           '0_Pilates, yoga, meditação.', '0_Pintar e Dormir',\n",
    "                           '0_Procedimentos estéticos, ajudo minha amiga na clínica dela todas as manhãs',\n",
    "                           '0_Qualquer coisa que me tire da realidade', '0_Resolver os problemas pessoais',\n",
    "                           '0_Ver pontos positivos rotineiramente', '0_compras',\n",
    "                           '0_foquei em fazer coisas que gostaria de fazer há tempos mas não fazia por achar que era incapaz ou que não estava pronta para fazê-las.',\n",
    "                           '1_Corrida, jogos eletrônicos, leitura, culinária',\n",
    "                           '1_Eu me aceito como sou,ainda mais porque tenho pessoas maravilhosas comigo então não tem como eu querer fazer algo para me aceitar além do mais Deus me fez assim do jeitinho que sou então sou grata por tudo que tenho e sou.',\n",
    "                           '1_Me afastando da minha mãe socialmente paranóica e pressionadora',\n",
    "                           '1_Tento relaxar sozinha, pensar na raiz do problema e tentar melhorar',\n",
    "                           '1_Trabalhar', '1_fazendo coisas sozinha, ouvindo música, desenhando...',\n",
    "                           '2_Assistindo porno', '2_Conhecendo pessoas que eu tenha uma conexão e me entendam',\n",
    "                           '2_Conversar com amigos, jogar, terapia ocupacional, pintar, artesanato, escrever, comprar roupas que me fazem confortável', \n",
    "                           '2_Tenho hobbies', '3_Atendimento psiquiátrico', '3_Meus gatos',\n",
    "                           '0_Leitura e passes no centro espírita'\n",
    "                          ]].max(axis=1)\n"
   ]
  },
  {
   "cell_type": "code",
   "execution_count": null,
   "metadata": {},
   "outputs": [],
   "source": [
    "df = df.drop(columns='Q17')"
   ]
  },
  {
   "cell_type": "markdown",
   "metadata": {},
   "source": [
    "### 1.18 Variável Q18 - \"Com quem você mora?\""
   ]
  },
  {
   "cell_type": "code",
   "execution_count": null,
   "metadata": {},
   "outputs": [],
   "source": [
    "chart_q18 = sns.countplot(x='Q18', data=df, palette='Blues', order=df.Q18.value_counts().index)\n",
    "chart_q18.set_xticklabels(chart_q18.get_xticklabels(), rotation=90)\n",
    "plt.savefig('q18.png')"
   ]
  },
  {
   "cell_type": "markdown",
   "metadata": {},
   "source": [
    "### 1.19 Variável Q19 - \"Seus pais são divorciados?\""
   ]
  },
  {
   "cell_type": "code",
   "execution_count": null,
   "metadata": {},
   "outputs": [],
   "source": [
    "sns.countplot(x='Q19', data=df, palette='Blues', order=df.Q19.value_counts().index)"
   ]
  },
  {
   "cell_type": "code",
   "execution_count": null,
   "metadata": {},
   "outputs": [],
   "source": [
    "df.Q19.value_counts() / df.Q19.count()"
   ]
  },
  {
   "cell_type": "code",
   "execution_count": null,
   "metadata": {},
   "outputs": [],
   "source": [
    "df.Q19 = np.where(df.Q19 == 'Sim', 1, 0)"
   ]
  },
  {
   "cell_type": "code",
   "execution_count": null,
   "metadata": {},
   "outputs": [],
   "source": [
    "df.head()"
   ]
  },
  {
   "cell_type": "code",
   "execution_count": null,
   "metadata": {},
   "outputs": [],
   "source": [
    "df.shape"
   ]
  },
  {
   "cell_type": "markdown",
   "metadata": {},
   "source": [
    "## 2. Análise Exploratória"
   ]
  },
  {
   "cell_type": "code",
   "execution_count": null,
   "metadata": {},
   "outputs": [],
   "source": [
    "df.describe()"
   ]
  },
  {
   "cell_type": "markdown",
   "metadata": {},
   "source": [
    "### 2.1 Convertendo Variáveis Categóricas"
   ]
  },
  {
   "cell_type": "code",
   "execution_count": null,
   "metadata": {},
   "outputs": [],
   "source": [
    "df = pd.get_dummies(df)"
   ]
  },
  {
   "cell_type": "code",
   "execution_count": null,
   "metadata": {},
   "outputs": [],
   "source": [
    "df.iloc[131]"
   ]
  },
  {
   "cell_type": "code",
   "execution_count": null,
   "metadata": {},
   "outputs": [],
   "source": [
    "df.shape"
   ]
  },
  {
   "cell_type": "markdown",
   "metadata": {},
   "source": [
    "### 2.2 Correlações"
   ]
  },
  {
   "cell_type": "code",
   "execution_count": null,
   "metadata": {},
   "outputs": [],
   "source": [
    "#Renomeando para melhor visualização\n",
    "\n",
    "df['Q11_SR'] = df.pop('Q11_SEM_RESPOSTA')"
   ]
  },
  {
   "cell_type": "code",
   "execution_count": null,
   "metadata": {
    "scrolled": false
   },
   "outputs": [],
   "source": [
    "f, (ax1) = plt.subplots(1, 1, figsize=(50,50))\n",
    "\n",
    "corr = df.corr()\n",
    "sns.heatmap(corr, cmap='coolwarm_r', annot_kws={'size':20}, ax=ax1)\n",
    "ax1.set_title(\"Matriz de correlações \\n\", fontsize=14)"
   ]
  },
  {
   "cell_type": "code",
   "execution_count": null,
   "metadata": {},
   "outputs": [],
   "source": [
    "corr_target = abs(corr[\"Q13\"])\n",
    "\n",
    "#Selecionado somente possíveis correlações com a variável label\n",
    "relevant_features = corr_target[corr_target > 0.2]"
   ]
  },
  {
   "cell_type": "code",
   "execution_count": null,
   "metadata": {},
   "outputs": [],
   "source": [
    "df[relevant_features.index].corr()"
   ]
  },
  {
   "cell_type": "code",
   "execution_count": null,
   "metadata": {},
   "outputs": [],
   "source": [
    "df.head()"
   ]
  },
  {
   "cell_type": "code",
   "execution_count": null,
   "metadata": {
    "scrolled": true
   },
   "outputs": [],
   "source": [
    "f, (ax1) = plt.subplots(1, 1, figsize=(12, 8))\n",
    "\n",
    "relevant_corr = df[relevant_features.index].corr()\n",
    "chart = sns.heatmap(relevant_corr, cmap='coolwarm_r', annot_kws={'size':20}, ax=ax1)\n",
    "\n",
    "ax1.set_title(\"Matriz de correlações \\n\", fontsize=14)\n",
    "\n",
    "chart.set_xticklabels(chart.get_xticklabels(), rotation=45)\n",
    "\n",
    "plt.savefig('correlation_greater_02.png')"
   ]
  },
  {
   "cell_type": "code",
   "execution_count": null,
   "metadata": {},
   "outputs": [],
   "source": [
    "df.shape"
   ]
  },
  {
   "cell_type": "markdown",
   "metadata": {},
   "source": [
    "## 3. Seleção de variáveis"
   ]
  },
  {
   "cell_type": "code",
   "execution_count": null,
   "metadata": {},
   "outputs": [],
   "source": [
    "from sklearn.model_selection import train_test_split\n",
    "from sklearn.linear_model import LassoCV"
   ]
  },
  {
   "cell_type": "code",
   "execution_count": null,
   "metadata": {},
   "outputs": [],
   "source": [
    "from sklearn.feature_selection import RFE\n",
    "from sklearn.svm import SVR"
   ]
  },
  {
   "cell_type": "code",
   "execution_count": null,
   "metadata": {},
   "outputs": [],
   "source": [
    "backup_df = df.copy()"
   ]
  },
  {
   "cell_type": "code",
   "execution_count": null,
   "metadata": {},
   "outputs": [],
   "source": [
    "y = df.pop('Q13')"
   ]
  },
  {
   "cell_type": "markdown",
   "metadata": {},
   "source": [
    "### 3.1 Greedy Feature Elimination\n",
    "(Similar to Backward Stepwise Selection)"
   ]
  },
  {
   "cell_type": "code",
   "execution_count": null,
   "metadata": {},
   "outputs": [],
   "source": [
    "#estimator = SVR(kernel=\"linear\")\n",
    "#selector = RFE(estimator, 20, step=1)\n",
    "#selector = selector.fit(X, y)"
   ]
  },
  {
   "cell_type": "code",
   "execution_count": null,
   "metadata": {},
   "outputs": [],
   "source": [
    "#selector.support_"
   ]
  },
  {
   "cell_type": "code",
   "execution_count": null,
   "metadata": {},
   "outputs": [],
   "source": [
    "#selector.ranking_"
   ]
  },
  {
   "cell_type": "code",
   "execution_count": null,
   "metadata": {},
   "outputs": [],
   "source": [
    "#selector.get_params"
   ]
  },
  {
   "cell_type": "code",
   "execution_count": null,
   "metadata": {},
   "outputs": [],
   "source": [
    "#support = pd.Series(selector.support_)"
   ]
  },
  {
   "cell_type": "code",
   "execution_count": null,
   "metadata": {},
   "outputs": [],
   "source": [
    "#df.columns[support.index[support]]"
   ]
  },
  {
   "cell_type": "code",
   "execution_count": null,
   "metadata": {},
   "outputs": [],
   "source": [
    "#df[df.columns[support.index[support]]]"
   ]
  },
  {
   "cell_type": "markdown",
   "metadata": {},
   "source": [
    "### 3.2 Variance Threshold"
   ]
  },
  {
   "cell_type": "code",
   "execution_count": null,
   "metadata": {},
   "outputs": [],
   "source": [
    "from sklearn.feature_selection import VarianceThreshold"
   ]
  },
  {
   "cell_type": "code",
   "execution_count": null,
   "metadata": {},
   "outputs": [],
   "source": [
    "sel = VarianceThreshold(threshold=(.8 * (1 - .8)))\n",
    "sel.fit_transform(df)"
   ]
  },
  {
   "cell_type": "code",
   "execution_count": null,
   "metadata": {},
   "outputs": [],
   "source": [
    "sel.variances_"
   ]
  },
  {
   "cell_type": "code",
   "execution_count": null,
   "metadata": {},
   "outputs": [],
   "source": [
    "sel.get_support()"
   ]
  },
  {
   "cell_type": "code",
   "execution_count": null,
   "metadata": {},
   "outputs": [],
   "source": [
    "support = pd.Series(sel.get_support())"
   ]
  },
  {
   "cell_type": "code",
   "execution_count": null,
   "metadata": {},
   "outputs": [],
   "source": [
    "featured_df = df[df.columns[support.index[support]]]"
   ]
  },
  {
   "cell_type": "code",
   "execution_count": null,
   "metadata": {},
   "outputs": [],
   "source": [
    "featured_df"
   ]
  },
  {
   "cell_type": "code",
   "execution_count": null,
   "metadata": {},
   "outputs": [],
   "source": [
    "featured_df.columns"
   ]
  },
  {
   "cell_type": "code",
   "execution_count": null,
   "metadata": {},
   "outputs": [],
   "source": [
    "X = featured_df"
   ]
  },
  {
   "cell_type": "code",
   "execution_count": null,
   "metadata": {},
   "outputs": [],
   "source": [
    "X_train, X_test, y_train, y_test = train_test_split(X, y, test_size=0.3, random_state=17)"
   ]
  },
  {
   "cell_type": "code",
   "execution_count": null,
   "metadata": {},
   "outputs": [],
   "source": [
    "print(\"Full Dataset:\", X.shape)\n",
    "print(\"Treinamento:\", X_train.shape)\n",
    "print(\"Test:\", X_test.shape)"
   ]
  },
  {
   "cell_type": "code",
   "execution_count": null,
   "metadata": {},
   "outputs": [],
   "source": [
    "backup_df['Q13'].value_counts() / backup_df.shape[0]"
   ]
  },
  {
   "cell_type": "code",
   "execution_count": null,
   "metadata": {},
   "outputs": [],
   "source": [
    "y_train.value_counts() / y_train.shape"
   ]
  },
  {
   "cell_type": "markdown",
   "metadata": {},
   "source": [
    "## 4. Desenvolvimento do modelo"
   ]
  },
  {
   "cell_type": "markdown",
   "metadata": {},
   "source": [
    "### 4.1 Cross Validation"
   ]
  },
  {
   "cell_type": "code",
   "execution_count": null,
   "metadata": {},
   "outputs": [],
   "source": [
    "from sklearn.linear_model import LogisticRegression\n",
    "from sklearn.svm import SVC\n",
    "from sklearn.neighbors import KNeighborsClassifier\n",
    "from sklearn.ensemble import RandomForestClassifier\n",
    "from sklearn.model_selection import cross_val_score"
   ]
  },
  {
   "cell_type": "code",
   "execution_count": null,
   "metadata": {},
   "outputs": [],
   "source": [
    "from sklearn.metrics import confusion_matrix\n",
    "from sklearn.metrics import classification_report\n",
    "from sklearn.metrics import roc_auc_score, roc_curve"
   ]
  },
  {
   "cell_type": "code",
   "execution_count": null,
   "metadata": {},
   "outputs": [],
   "source": [
    "classifiers = {\n",
    "    \"LogisticRegression\": LogisticRegression(), # Paramétrico\n",
    "    \"KNN\": KNeighborsClassifier(), # Não paramétrico\n",
    "    \"SVC\": SVC(), # Não paramétrico\n",
    "    \"RandomForest\": RandomForestClassifier(n_jobs=-1, random_state=17) # Não paramétrico\n",
    "}"
   ]
  },
  {
   "cell_type": "code",
   "execution_count": null,
   "metadata": {},
   "outputs": [],
   "source": [
    "check_classifiers_scores(classifiers, X_train, y_train)"
   ]
  },
  {
   "cell_type": "markdown",
   "metadata": {},
   "source": [
    "### 4.2 Avaliando predições do modelo\n",
    "Escolhendo o modelo com melhores métricas e analisando as predições"
   ]
  },
  {
   "cell_type": "code",
   "execution_count": null,
   "metadata": {},
   "outputs": [],
   "source": [
    "# Escolhendo o modelo com melhor acurácia\n",
    "lr = classifiers['LogisticRegression']"
   ]
  },
  {
   "cell_type": "code",
   "execution_count": null,
   "metadata": {},
   "outputs": [],
   "source": [
    "#rf.predict(X_train)\n",
    "\n",
    "predicted_y_proba = lr.predict_proba(X_test)[:, 1]\n",
    "predicted_y = lr.predict(X_test)\n",
    "\n",
    "lr_mc = confusion_matrix(y_test, predicted_y)\n",
    "\n",
    "sns.heatmap(lr_mc, annot=True, cmap=sns.light_palette(\"black\"))\n",
    "plt.savefig('confusion_matriz_lr.png')"
   ]
  },
  {
   "cell_type": "code",
   "execution_count": null,
   "metadata": {},
   "outputs": [],
   "source": [
    "print(classification_report(y_test, predicted_y))"
   ]
  },
  {
   "cell_type": "code",
   "execution_count": null,
   "metadata": {
    "scrolled": true
   },
   "outputs": [],
   "source": [
    "plot_roc_curve(y_test, predicted_y_proba, 'roc_curve_lr.png')"
   ]
  },
  {
   "cell_type": "markdown",
   "metadata": {},
   "source": [
    "### 4.3 Over-sampling"
   ]
  },
  {
   "cell_type": "code",
   "execution_count": null,
   "metadata": {},
   "outputs": [],
   "source": [
    "from imblearn.over_sampling import SMOTE"
   ]
  },
  {
   "cell_type": "code",
   "execution_count": null,
   "metadata": {},
   "outputs": [],
   "source": [
    "y_train.value_counts()"
   ]
  },
  {
   "cell_type": "code",
   "execution_count": null,
   "metadata": {},
   "outputs": [],
   "source": [
    "oversample = SMOTE(sampling_strategy='minority', random_state=17)\n",
    "X_res, y_res = oversample.fit_resample(X_train, y_train)"
   ]
  },
  {
   "cell_type": "code",
   "execution_count": null,
   "metadata": {},
   "outputs": [],
   "source": [
    "y_res.value_counts()"
   ]
  },
  {
   "cell_type": "code",
   "execution_count": null,
   "metadata": {},
   "outputs": [],
   "source": [
    "classifiers_v2 ={\n",
    "    \"LogisticRegression\": LogisticRegression(), # Paramétrico\n",
    "    \"KNN\": KNeighborsClassifier(), # Não paramétrico\n",
    "    \"SVC\": SVC(), # Não paramétrico\n",
    "    \"RandomForest\": RandomForestClassifier(n_jobs=-1, random_state=17) # Não paramétrico\n",
    "}\n",
    "\n",
    "check_classifiers_scores(classifiers_v2, X_res, y_res)"
   ]
  },
  {
   "cell_type": "markdown",
   "metadata": {},
   "source": [
    "#### 4.3.1 Anáise modelo com oversample "
   ]
  },
  {
   "cell_type": "code",
   "execution_count": null,
   "metadata": {},
   "outputs": [],
   "source": [
    "rf = classifiers_v2['RandomForest']\n",
    "\n",
    "predicted_y_proba = rf.predict_proba(X_test)[:, 1]\n",
    "predicted_y = rf.predict(X_test)\n",
    "\n",
    "rf_mc = confusion_matrix(y_test, predicted_y)\n",
    "\n",
    "sns.heatmap(rf_mc, annot=True, cmap=sns.light_palette(\"black\"))\n",
    "plt.savefig('confusion_matriz_rf.png')"
   ]
  },
  {
   "cell_type": "code",
   "execution_count": null,
   "metadata": {},
   "outputs": [],
   "source": [
    "print(classification_report(y_test, predicted_y))"
   ]
  },
  {
   "cell_type": "code",
   "execution_count": null,
   "metadata": {},
   "outputs": [],
   "source": [
    "plot_roc_curve(y_test, predicted_y_proba, 'roc_curve_rf.png')"
   ]
  },
  {
   "cell_type": "markdown",
   "metadata": {},
   "source": [
    "#### 4.3.2 Feature Importance"
   ]
  },
  {
   "cell_type": "code",
   "execution_count": null,
   "metadata": {},
   "outputs": [],
   "source": [
    "show_feature_importance(rf.feature_importances_, featured_df)"
   ]
  },
  {
   "cell_type": "code",
   "execution_count": null,
   "metadata": {},
   "outputs": [],
   "source": [
    "plot_feature_importance(rf.feature_importances_, featured_df, 'feature_importance_rf')"
   ]
  },
  {
   "cell_type": "markdown",
   "metadata": {},
   "source": [
    "### 4.4 Under-sampling "
   ]
  },
  {
   "cell_type": "code",
   "execution_count": null,
   "metadata": {},
   "outputs": [],
   "source": [
    "y_train.value_counts()"
   ]
  },
  {
   "cell_type": "code",
   "execution_count": null,
   "metadata": {},
   "outputs": [],
   "source": [
    "undersampling_df = X_train.copy()\n",
    "undersampling_df['LABEL'] = y_train"
   ]
  },
  {
   "cell_type": "code",
   "execution_count": null,
   "metadata": {},
   "outputs": [],
   "source": [
    "suicide_tries_df = undersampling_df.loc[undersampling_df['LABEL'] == 1]\n",
    "non_suicide_tries_df = undersampling_df.loc[undersampling_df['LABEL'] == 0][:suicide_tries_df.shape[0]]\n",
    "\n",
    "normal_distributed_df = pd.concat([suicide_tries_df, non_suicide_tries_df]).sample(frac=1, random_state=42)\n",
    "\n",
    "normal_distributed_df['LABEL'].value_counts()"
   ]
  },
  {
   "cell_type": "code",
   "execution_count": null,
   "metadata": {},
   "outputs": [],
   "source": [
    "y_under_resambled = normal_distributed_df.pop('LABEL')\n",
    "X_under_resambled = normal_distributed_df"
   ]
  },
  {
   "cell_type": "code",
   "execution_count": null,
   "metadata": {},
   "outputs": [],
   "source": [
    "classifiers_v3 = {\n",
    "    \"LogisticRegression\": LogisticRegression(), # Paramétrico\n",
    "    \"KNN\": KNeighborsClassifier(), # Não paramétrico\n",
    "    \"SVC\": SVC(), # Não paramétrico\n",
    "    \"RandomForest\": RandomForestClassifier(n_jobs=-1, random_state=17) # Não paramétrico\n",
    "}\n",
    "\n",
    "check_classifiers_scores(classifiers_v3, X_under_resambled, y_under_resambled)"
   ]
  },
  {
   "cell_type": "markdown",
   "metadata": {},
   "source": [
    "#### 4.4.1 Análise modelo com undersampling"
   ]
  },
  {
   "cell_type": "code",
   "execution_count": null,
   "metadata": {},
   "outputs": [],
   "source": [
    "rfus = classifiers_v3['RandomForest']\n",
    "\n",
    "predicted_y_proba = rfus.predict_proba(X_test)[:, 1]\n",
    "predicted_y = rfus.predict(X_test)\n",
    "\n",
    "rfus_mc = confusion_matrix(y_test, predicted_y)"
   ]
  },
  {
   "cell_type": "code",
   "execution_count": null,
   "metadata": {
    "scrolled": true
   },
   "outputs": [],
   "source": [
    "print(classification_report(y_test, predicted_y))"
   ]
  },
  {
   "cell_type": "code",
   "execution_count": null,
   "metadata": {},
   "outputs": [],
   "source": [
    "plot_roc_curve(y_test, predicted_y_proba, 'roc_curve_rf_undersample.png')"
   ]
  },
  {
   "cell_type": "code",
   "execution_count": null,
   "metadata": {},
   "outputs": [],
   "source": [
    "plot_resampling_comparing(rf_mc, rfus_mc, 'confusion_matriz_comparing.png')"
   ]
  },
  {
   "cell_type": "markdown",
   "metadata": {},
   "source": [
    "#### 4.4.2 Feature Importance"
   ]
  },
  {
   "cell_type": "code",
   "execution_count": null,
   "metadata": {},
   "outputs": [],
   "source": [
    "show_feature_importance(rfus.feature_importances_, featured_df)"
   ]
  },
  {
   "cell_type": "code",
   "execution_count": null,
   "metadata": {},
   "outputs": [],
   "source": [
    "plot_feature_importance(rfus.feature_importances_, featured_df, 'feature_importance_rfus')"
   ]
  },
  {
   "cell_type": "markdown",
   "metadata": {},
   "source": [
    "### 4.5 Outras Abordagens\n",
    "Sessão para tentativas de melhoria do modelo preditivo"
   ]
  },
  {
   "cell_type": "markdown",
   "metadata": {},
   "source": [
    "#### 4.5.1 Removendo variável de alta relevancia"
   ]
  },
  {
   "cell_type": "code",
   "execution_count": null,
   "metadata": {},
   "outputs": [],
   "source": [
    "X_under_resambled_v2 = X_under_resambled.copy().drop(columns=['Q9_PROCESSADO', 'Q1'])\n",
    "y_under_resambled_v2 = y_under_resambled.copy()\n",
    "\n",
    "X_test_v2 = X_test.copy().drop(columns=['Q9_PROCESSADO', 'Q1'])"
   ]
  },
  {
   "cell_type": "code",
   "execution_count": null,
   "metadata": {},
   "outputs": [],
   "source": [
    "classifiers_v4 = {\n",
    "    \"LogisticRegression\": LogisticRegression(), # Paramétrico\n",
    "    \"KNN\": KNeighborsClassifier(), # Não paramétrico\n",
    "    \"SVC\": SVC(probability=True), # Não paramétrico\n",
    "    \"RandomForest\": RandomForestClassifier(n_jobs=-1, random_state=17) # Não paramétrico\n",
    "}\n",
    "\n",
    "check_classifiers_scores(classifiers_v4, X_under_resambled_v2, y_under_resambled_v2)"
   ]
  },
  {
   "cell_type": "code",
   "execution_count": null,
   "metadata": {},
   "outputs": [],
   "source": [
    "svc = classifiers_v4['SVC']\n",
    "\n",
    "predicted_y_proba = svc.predict_proba(X_test_v2)[:, 1]\n",
    "predicted_y = svc.predict(X_test_v2)\n",
    "\n",
    "svc_mc = confusion_matrix(y_test, predicted_y)\n",
    "\n",
    "sns.heatmap(svc_mc, annot=True, cmap=sns.light_palette(\"black\"))\n",
    "plt.savefig('confusion_matriz_svc.png')"
   ]
  },
  {
   "cell_type": "code",
   "execution_count": null,
   "metadata": {},
   "outputs": [],
   "source": [
    "print(classification_report(y_test, predicted_y))"
   ]
  },
  {
   "cell_type": "code",
   "execution_count": null,
   "metadata": {},
   "outputs": [],
   "source": [
    "plot_roc_curve(y_test, predicted_y_proba, 'roc_curve_svc.png')"
   ]
  },
  {
   "cell_type": "markdown",
   "metadata": {},
   "source": [
    "#### 4.5.2 Tunning de Parâmetros"
   ]
  },
  {
   "cell_type": "code",
   "execution_count": null,
   "metadata": {},
   "outputs": [],
   "source": [
    "from sklearn.model_selection import GridSearchCV"
   ]
  },
  {
   "cell_type": "code",
   "execution_count": null,
   "metadata": {},
   "outputs": [],
   "source": [
    "lr_params = {\"penalty\": ['l1', 'l2'], 'C': [0.01, 0.1, 1, 10, 100]}\n",
    "knn_params = {\"n_neighbors\": list(range(2,5,1)), 'algorithm': ['auto', 'ball_tree', 'kd_tree', 'brute']}\n",
    "svm_params = {'C': [0.5, 0.7, 0.9, 1], 'kernel': ['rbf', 'poly', 'sigmoid', 'linear']}\n",
    "rf_params = {\n",
    "    'max_depth': [1, 2, 5, 7, 10, 20],\n",
    "    'n_estimators': [1, 4, 8, 16, 32, 64, 100, 200],\n",
    "    'min_samples_split': np.linspace(0.1, 1.0, 10, endpoint=True),\n",
    "    'min_samples_leaf': np.linspace(0.1, 0.5, 5, endpoint=True),\n",
    "    'criterion': ['entropy', 'gini']\n",
    "}\n",
    "\n",
    "classifiers_v5 = {\n",
    "    \"LogisticRegression\": GridSearchCV(LogisticRegression(), lr_params, n_jobs=-1), \n",
    "    \"KNN\": GridSearchCV(KNeighborsClassifier(), knn_params, n_jobs=-1),\n",
    "    \"SVC\": GridSearchCV(SVC(probability=True), svm_params, n_jobs=-1), \n",
    "    \"RandomForest\": GridSearchCV(RandomForestClassifier(n_jobs=-1, random_state=17), rf_params, n_jobs=-1)\n",
    "}"
   ]
  },
  {
   "cell_type": "code",
   "execution_count": null,
   "metadata": {},
   "outputs": [],
   "source": [
    "for key, classifier in classifiers_v5.items():\n",
    "    classifier.fit(X_under_resambled_v2, y_under_resambled_v2)\n",
    "    best_estimator = classifier.best_estimator_\n",
    "    \n",
    "    training_score = cross_val_score(best_estimator, X_under_resambled_v2, y_under_resambled_v2, cv=5, n_jobs=-1)\n",
    "    precision_score = cross_val_score(best_estimator, X_under_resambled_v2, y_under_resambled_v2, cv=5, n_jobs=-1, scoring='precision')\n",
    "    recall_score = cross_val_score(best_estimator, X_under_resambled_v2, y_under_resambled_v2, cv=5, n_jobs=-1, scoring='recall')\n",
    "\n",
    "    print(best_estimator.__class__.__name__, \n",
    "          \"[Accuracy]:\", round(training_score.mean(), 2) * 100, \"%\", \n",
    "          \"[Precision]:\", round(precision_score.mean(), 2),\n",
    "          \"[Recall]:\", round(recall_score.mean(), 2)\n",
    "    )"
   ]
  },
  {
   "cell_type": "code",
   "execution_count": null,
   "metadata": {},
   "outputs": [],
   "source": []
  }
 ],
 "metadata": {
  "kernelspec": {
   "display_name": "Python 3",
   "language": "python",
   "name": "python3"
  },
  "language_info": {
   "codemirror_mode": {
    "name": "ipython",
    "version": 3
   },
   "file_extension": ".py",
   "mimetype": "text/x-python",
   "name": "python",
   "nbconvert_exporter": "python",
   "pygments_lexer": "ipython3",
   "version": "3.7.1"
  }
 },
 "nbformat": 4,
 "nbformat_minor": 2
}
